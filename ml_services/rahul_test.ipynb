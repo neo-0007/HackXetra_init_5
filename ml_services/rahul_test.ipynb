{
 "cells": [
  {
   "cell_type": "code",
   "execution_count": 3,
   "metadata": {},
   "outputs": [],
   "source": [
    "import PIL.Image\n",
    "import cv2\n",
    "import numpy as np"
   ]
  },
  {
   "cell_type": "code",
   "execution_count": null,
   "metadata": {},
   "outputs": [],
   "source": [
    "def applyAdptThresholdLoop(image):\n",
    "            adapt = cv2.adaptiveThreshold(blur,255,cv2.ADAPTIVE_THRESH_GAUSSIAN_C,cv2.THRESH_BINARY,99,3)#can write cv2.ADAPTIVE_THRESH_MEAN_C in place of cv2.ADAPTIVE_THRESH_GAUSSIAN_C for variations\n",
    "\n",
    "blur = cv2.GaussianBlur(gray, (blurkernel,blurkernel),0)"
   ]
  },
  {
   "cell_type": "code",
   "execution_count": null,
   "metadata": {},
   "outputs": [],
   "source": [
    "def preprocess_image(image: PIL.Image.Image, block_size: int = 11, C: int = 2) -> bytes:\n",
    "    # Resize and convert to grayscale\n",
    "    image = image.convert(\"L\")\n",
    "    image.show()\n",
    "        # Convert the Pillow image to a NumPy array (OpenCV format)\n",
    "\n",
    "    image_np = np.array(image)\n",
    "    \n",
    "    # Apply adaptive thresholding using OpenCV\n",
    "    binary_image_np = cv2.adaptiveThreshold(\n",
    "        image_np,\n",
    "        maxValue=255,\n",
    "        adaptiveMethod=cv2.ADAPTIVE_THRESH_GAUSSIAN_C,\n",
    "        thresholdType=cv2.THRESH_BINARY,\n",
    "        blockSize=block_size,\n",
    "        C=C\n",
    "    )\n",
    "    \n",
    "    # Convert the NumPy array back to a Pillow image\n",
    "    binary_image = PIL.Image.fromarray(binary_image_np)\n",
    "\n",
    "    return binary_image"
   ]
  },
  {
   "cell_type": "code",
   "execution_count": 12,
   "metadata": {},
   "outputs": [
    {
     "name": "stdout",
     "output_type": "stream",
     "text": [
      "80\n"
     ]
    }
   ],
   "source": [
    "img = PIL.Image.open(r\"C:\\Users\\hulra\\Programming\\TU 3rd sem\\hacxetra\\HackXetra_init_5\\ml_services\\1.jpeg\")\n",
    "width, height = img.size\n",
    "\n",
    "print(max(height, width)//20)\n",
    "\n",
    "img = preprocess_image(img, (max(height, width)//(40*2))*2+1, 2)\n",
    "img.show()"
   ]
  },
  {
   "cell_type": "code",
   "execution_count": null,
   "metadata": {},
   "outputs": [],
   "source": []
  }
 ],
 "metadata": {
  "kernelspec": {
   "display_name": "Python 3",
   "language": "python",
   "name": "python3"
  },
  "language_info": {
   "codemirror_mode": {
    "name": "ipython",
    "version": 3
   },
   "file_extension": ".py",
   "mimetype": "text/x-python",
   "name": "python",
   "nbconvert_exporter": "python",
   "pygments_lexer": "ipython3",
   "version": "3.11.7"
  }
 },
 "nbformat": 4,
 "nbformat_minor": 2
}
